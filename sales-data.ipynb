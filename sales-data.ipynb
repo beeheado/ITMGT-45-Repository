{
 "cells": [
  {
   "cell_type": "code",
   "execution_count": 42,
   "id": "e8ff6c12",
   "metadata": {
    "execution": {
     "iopub.execute_input": "2025-09-19T13:41:08.226257Z",
     "iopub.status.busy": "2025-09-19T13:41:08.226048Z",
     "iopub.status.idle": "2025-09-19T13:41:10.905345Z",
     "shell.execute_reply": "2025-09-19T13:41:10.904316Z"
    }
   },
   "outputs": [],
   "source": [
    "import pandas as pd\n",
    "import numpy as np\n",
    "import matplotlib.pyplot as plt\n",
    "from IPython.display import display\n",
    "\n",
    "pd.set_option('display.max_rows', 50)\n",
    "pd.set_option('display.max_columns', 50)\n",
    "pd.set_option('display.width', 120)\n",
    "\n",
    "dim_customer = pd.read_json('/Users/luismariano/Downloads/dim_customer.json')\n",
    "fct_invoice  = pd.read_csv('/Users/luismariano/Downloads/fct_invoice.csv')"
   ]
  },
  {
   "cell_type": "code",
   "execution_count": 43,
   "id": "eae763cc",
   "metadata": {},
   "outputs": [],
   "source": [
    "def normalize_cols(df: pd.DataFrame) -> pd.DataFrame:\n",
    "    out = df.copy()\n",
    "    out.columns = (\n",
    "        out.columns.str.strip()\n",
    "                    .str.replace(r'\\s+', '_', regex=True)\n",
    "                    .str.replace(r'[^0-9A-Za-z_]', '', regex=True)\n",
    "                    .str.lower()\n",
    "    )\n",
    "    return out\n",
    "\n",
    "dim_customer = normalize_cols(dim_customer)\n",
    "fct_invoice  = normalize_cols(fct_invoice)\n",
    "\n",
    "req_dim_cols = {'id','age'}\n",
    "req_inv_cols = {'customer_id','category','quantity','price','payment_method','invoice_date'}\n",
    "\n",
    "missing_dim = req_dim_cols - set(dim_customer.columns)\n",
    "missing_inv = req_inv_cols - set(fct_invoice.columns)\n",
    "assert not missing_dim, f\"Missing in dim_customer: {missing_dim}\"\n",
    "assert not missing_inv, f\"Missing in fct_invoice: {missing_inv}\"\n",
    "\n",
    "fct_invoice['invoice_date'] = pd.to_datetime(fct_invoice['invoice_date'], errors='coerce')\n",
    "fct_invoice['line_total']   = (pd.to_numeric(fct_invoice['quantity'], errors='coerce') * \n",
    "                               pd.to_numeric(fct_invoice['price'], errors='coerce'))"
   ]
  },
  {
   "cell_type": "markdown",
   "id": "6e83a872",
   "metadata": {},
   "source": [
    "## Easy\n",
    "\n",
    "### Easy 1: How many unique customers are in the dataset?"
   ]
  },
  {
   "cell_type": "code",
   "execution_count": 44,
   "id": "62ddebc4",
   "metadata": {
    "execution": {
     "iopub.execute_input": "2025-09-19T13:41:10.909199Z",
     "iopub.status.busy": "2025-09-19T13:41:10.908888Z",
     "iopub.status.idle": "2025-09-19T13:41:10.915870Z",
     "shell.execute_reply": "2025-09-19T13:41:10.915021Z"
    }
   },
   "outputs": [
    {
     "name": "stdout",
     "output_type": "stream",
     "text": [
      "Unique customers in dim_customer: 5191\n",
      "Unique customers appearing in fct_invoice: 5191\n"
     ]
    }
   ],
   "source": [
    "unique_customers_dim = dim_customer['id'].nunique()\n",
    "unique_customers_invoices = fct_invoice['customer_id'].nunique()\n",
    "\n",
    "print(\"Unique customers in dim_customer:\", unique_customers_dim)\n",
    "print(\"Unique customers appearing in fct_invoice:\", unique_customers_invoices)"
   ]
  },
  {
   "cell_type": "markdown",
   "id": "642b68fa",
   "metadata": {},
   "source": [
    "### Easy 2: What are the different categories of products available? How many unique categories are there?"
   ]
  },
  {
   "cell_type": "code",
   "execution_count": 45,
   "id": "9628a167",
   "metadata": {
    "execution": {
     "iopub.execute_input": "2025-09-19T13:41:10.919663Z",
     "iopub.status.busy": "2025-09-19T13:41:10.919299Z",
     "iopub.status.idle": "2025-09-19T13:41:10.994059Z",
     "shell.execute_reply": "2025-09-19T13:41:10.993302Z"
    }
   },
   "outputs": [
    {
     "name": "stdout",
     "output_type": "stream",
     "text": [
      "Categories:\n",
      " - Books\n",
      " - Clothing\n",
      " - Cosmetics\n",
      " - Food & Beverage\n",
      " - Shoes\n",
      " - Souvenir\n",
      " - Technology\n",
      " - Toys\n",
      "\n",
      "Number of unique categories: 8\n"
     ]
    }
   ],
   "source": [
    "cats = (fct_invoice['category']\n",
    "        .astype(str).str.strip().replace('', np.nan).dropna()\n",
    "        .unique())\n",
    "cats = np.sort(cats)\n",
    "print(\"Categories:\")\n",
    "for c in cats:\n",
    "    print(\" -\", c)\n",
    "print(\"\\nNumber of unique categories:\", len(cats))"
   ]
  },
  {
   "cell_type": "markdown",
   "id": "8f6fc328",
   "metadata": {},
   "source": [
    "### Easy 3: Which payment method is the most popular? How many times was it used?"
   ]
  },
  {
   "cell_type": "code",
   "execution_count": 46,
   "id": "8234df2b",
   "metadata": {
    "execution": {
     "iopub.execute_input": "2025-09-19T13:41:10.998043Z",
     "iopub.status.busy": "2025-09-19T13:41:10.997682Z",
     "iopub.status.idle": "2025-09-19T13:41:11.082047Z",
     "shell.execute_reply": "2025-09-19T13:41:11.033572Z"
    }
   },
   "outputs": [
    {
     "data": {
      "text/html": [
       "<div>\n",
       "<style scoped>\n",
       "    .dataframe tbody tr th:only-of-type {\n",
       "        vertical-align: middle;\n",
       "    }\n",
       "\n",
       "    .dataframe tbody tr th {\n",
       "        vertical-align: top;\n",
       "    }\n",
       "\n",
       "    .dataframe thead th {\n",
       "        text-align: right;\n",
       "    }\n",
       "</style>\n",
       "<table border=\"1\" class=\"dataframe\">\n",
       "  <thead>\n",
       "    <tr style=\"text-align: right;\">\n",
       "      <th></th>\n",
       "      <th>count</th>\n",
       "    </tr>\n",
       "    <tr>\n",
       "      <th>payment_method</th>\n",
       "      <th></th>\n",
       "    </tr>\n",
       "  </thead>\n",
       "  <tbody>\n",
       "    <tr>\n",
       "      <th>Cash</th>\n",
       "      <td>44447</td>\n",
       "    </tr>\n",
       "    <tr>\n",
       "      <th>Credit Card</th>\n",
       "      <td>34931</td>\n",
       "    </tr>\n",
       "    <tr>\n",
       "      <th>Debit Card</th>\n",
       "      <td>20079</td>\n",
       "    </tr>\n",
       "  </tbody>\n",
       "</table>\n",
       "</div>"
      ],
      "text/plain": [
       "                count\n",
       "payment_method       \n",
       "Cash            44447\n",
       "Credit Card     34931\n",
       "Debit Card      20079"
      ]
     },
     "metadata": {},
     "output_type": "display_data"
    },
    {
     "name": "stdout",
     "output_type": "stream",
     "text": [
      "\n",
      "Most popular payment method: Cash (used 44447 times)\n"
     ]
    }
   ],
   "source": [
    "pm_counts = (fct_invoice['payment_method']\n",
    "             .astype(str).str.strip().replace('', np.nan).dropna()\n",
    "             .value_counts(dropna=False))\n",
    "display(pm_counts.to_frame('count'))\n",
    "\n",
    "if len(pm_counts):\n",
    "    top_method = pm_counts.index[0]\n",
    "    top_count  = pm_counts.iloc[0]\n",
    "    print(f\"\\nMost popular payment method: {top_method} (used {top_count} times)\")\n",
    "else:\n",
    "    print(\"No payment method data found.\")"
   ]
  },
  {
   "cell_type": "markdown",
   "id": "d3ff8ff9",
   "metadata": {},
   "source": [
    "## Medium\n",
    "\n",
    "### Medium 1: What are the three most popular categories, by total sales?"
   ]
  },
  {
   "cell_type": "code",
   "execution_count": 47,
   "id": "1cdfc931",
   "metadata": {
    "execution": {
     "iopub.execute_input": "2025-09-19T13:41:11.086186Z",
     "iopub.status.busy": "2025-09-19T13:41:11.085825Z",
     "iopub.status.idle": "2025-09-19T13:41:11.105482Z",
     "shell.execute_reply": "2025-09-19T13:41:11.104736Z"
    }
   },
   "outputs": [
    {
     "data": {
      "text/html": [
       "<div>\n",
       "<style scoped>\n",
       "    .dataframe tbody tr th:only-of-type {\n",
       "        vertical-align: middle;\n",
       "    }\n",
       "\n",
       "    .dataframe tbody tr th {\n",
       "        vertical-align: top;\n",
       "    }\n",
       "\n",
       "    .dataframe thead th {\n",
       "        text-align: right;\n",
       "    }\n",
       "</style>\n",
       "<table border=\"1\" class=\"dataframe\">\n",
       "  <thead>\n",
       "    <tr style=\"text-align: right;\">\n",
       "      <th></th>\n",
       "      <th>total_sales</th>\n",
       "    </tr>\n",
       "    <tr>\n",
       "      <th>category</th>\n",
       "      <th></th>\n",
       "    </tr>\n",
       "  </thead>\n",
       "  <tbody>\n",
       "    <tr>\n",
       "      <th>Clothing</th>\n",
       "      <td>1.139968e+08</td>\n",
       "    </tr>\n",
       "    <tr>\n",
       "      <th>Shoes</th>\n",
       "      <td>6.655345e+07</td>\n",
       "    </tr>\n",
       "    <tr>\n",
       "      <th>Technology</th>\n",
       "      <td>5.786235e+07</td>\n",
       "    </tr>\n",
       "    <tr>\n",
       "      <th>Cosmetics</th>\n",
       "      <td>6.792863e+06</td>\n",
       "    </tr>\n",
       "    <tr>\n",
       "      <th>Toys</th>\n",
       "      <td>3.980426e+06</td>\n",
       "    </tr>\n",
       "    <tr>\n",
       "      <th>Food &amp; Beverage</th>\n",
       "      <td>8.495351e+05</td>\n",
       "    </tr>\n",
       "    <tr>\n",
       "      <th>Books</th>\n",
       "      <td>8.345529e+05</td>\n",
       "    </tr>\n",
       "    <tr>\n",
       "      <th>Souvenir</th>\n",
       "      <td>6.358247e+05</td>\n",
       "    </tr>\n",
       "  </tbody>\n",
       "</table>\n",
       "</div>"
      ],
      "text/plain": [
       "                  total_sales\n",
       "category                     \n",
       "Clothing         1.139968e+08\n",
       "Shoes            6.655345e+07\n",
       "Technology       5.786235e+07\n",
       "Cosmetics        6.792863e+06\n",
       "Toys             3.980426e+06\n",
       "Food & Beverage  8.495351e+05\n",
       "Books            8.345529e+05\n",
       "Souvenir         6.358247e+05"
      ]
     },
     "metadata": {},
     "output_type": "display_data"
    },
    {
     "name": "stdout",
     "output_type": "stream",
     "text": [
      "\n",
      "Top 3 categories by total sales:\n"
     ]
    },
    {
     "data": {
      "text/html": [
       "<div>\n",
       "<style scoped>\n",
       "    .dataframe tbody tr th:only-of-type {\n",
       "        vertical-align: middle;\n",
       "    }\n",
       "\n",
       "    .dataframe tbody tr th {\n",
       "        vertical-align: top;\n",
       "    }\n",
       "\n",
       "    .dataframe thead th {\n",
       "        text-align: right;\n",
       "    }\n",
       "</style>\n",
       "<table border=\"1\" class=\"dataframe\">\n",
       "  <thead>\n",
       "    <tr style=\"text-align: right;\">\n",
       "      <th></th>\n",
       "      <th>total_sales</th>\n",
       "    </tr>\n",
       "    <tr>\n",
       "      <th>category</th>\n",
       "      <th></th>\n",
       "    </tr>\n",
       "  </thead>\n",
       "  <tbody>\n",
       "    <tr>\n",
       "      <th>Clothing</th>\n",
       "      <td>1.139968e+08</td>\n",
       "    </tr>\n",
       "    <tr>\n",
       "      <th>Shoes</th>\n",
       "      <td>6.655345e+07</td>\n",
       "    </tr>\n",
       "    <tr>\n",
       "      <th>Technology</th>\n",
       "      <td>5.786235e+07</td>\n",
       "    </tr>\n",
       "  </tbody>\n",
       "</table>\n",
       "</div>"
      ],
      "text/plain": [
       "             total_sales\n",
       "category                \n",
       "Clothing    1.139968e+08\n",
       "Shoes       6.655345e+07\n",
       "Technology  5.786235e+07"
      ]
     },
     "metadata": {},
     "output_type": "display_data"
    }
   ],
   "source": [
    "sales_by_cat = (fct_invoice\n",
    "                .groupby('category', dropna=False)['line_total']\n",
    "                .sum()\n",
    "                .sort_values(ascending=False))\n",
    "display(sales_by_cat.to_frame('total_sales'))\n",
    "\n",
    "print(\"\\nTop 3 categories by total sales:\")\n",
    "display(sales_by_cat.head(3).to_frame('total_sales'))"
   ]
  },
  {
   "cell_type": "markdown",
   "id": "0898c3a5",
   "metadata": {},
   "source": [
    "### Medium 2: What are the total sales attributed to customers over the age of 45?"
   ]
  },
  {
   "cell_type": "code",
   "execution_count": 48,
   "id": "c077f8bd",
   "metadata": {
    "execution": {
     "iopub.execute_input": "2025-09-19T13:41:11.109118Z",
     "iopub.status.busy": "2025-09-19T13:41:11.108742Z",
     "iopub.status.idle": "2025-09-19T13:41:11.182963Z",
     "shell.execute_reply": "2025-09-19T13:41:11.182001Z"
    }
   },
   "outputs": [
    {
     "name": "stdout",
     "output_type": "stream",
     "text": [
      "Total sales from customers over 45: 82039768.15\n"
     ]
    }
   ],
   "source": [
    "inv_with_age = fct_invoice.merge(\n",
    "    dim_customer[['id','age']], left_on='customer_id', right_on='id', how='left'\n",
    ")\n",
    "\n",
    "over_45 = inv_with_age[inv_with_age['age'] > 45]\n",
    "total_sales_over_45 = over_45['line_total'].sum(skipna=True)\n",
    "\n",
    "print(\"Total sales from customers over 45:\", float(total_sales_over_45))"
   ]
  },
  {
   "cell_type": "markdown",
   "id": "5b7f47ca",
   "metadata": {},
   "source": [
    "### Medium 3: How is the data distributed across different invoice dates? Are there any seasonal trends or patterns? (Use a graph.)"
   ]
  },
  {
   "cell_type": "code",
   "execution_count": 49,
   "id": "eab746f0",
   "metadata": {
    "execution": {
     "iopub.execute_input": "2025-09-19T13:41:11.186707Z",
     "iopub.status.busy": "2025-09-19T13:41:11.186447Z",
     "iopub.status.idle": "2025-09-19T13:41:11.769442Z",
     "shell.execute_reply": "2025-09-19T13:41:11.768504Z"
    }
   },
   "outputs": [
    {
     "name": "stdout",
     "output_type": "stream",
     "text": [
      "Monthly totals preview:\n"
     ]
    },
    {
     "data": {
      "text/html": [
       "<div>\n",
       "<style scoped>\n",
       "    .dataframe tbody tr th:only-of-type {\n",
       "        vertical-align: middle;\n",
       "    }\n",
       "\n",
       "    .dataframe tbody tr th {\n",
       "        vertical-align: top;\n",
       "    }\n",
       "\n",
       "    .dataframe thead th {\n",
       "        text-align: right;\n",
       "    }\n",
       "</style>\n",
       "<table border=\"1\" class=\"dataframe\">\n",
       "  <thead>\n",
       "    <tr style=\"text-align: right;\">\n",
       "      <th></th>\n",
       "      <th>monthly_sales</th>\n",
       "    </tr>\n",
       "    <tr>\n",
       "      <th>invoice_date</th>\n",
       "      <th></th>\n",
       "    </tr>\n",
       "  </thead>\n",
       "  <tbody>\n",
       "    <tr>\n",
       "      <th>2021-01-01</th>\n",
       "      <td>3489088.99</td>\n",
       "    </tr>\n",
       "    <tr>\n",
       "      <th>2021-02-01</th>\n",
       "      <td>3722788.19</td>\n",
       "    </tr>\n",
       "    <tr>\n",
       "      <th>2021-03-01</th>\n",
       "      <td>4032316.82</td>\n",
       "    </tr>\n",
       "    <tr>\n",
       "      <th>2021-04-01</th>\n",
       "      <td>3938371.26</td>\n",
       "    </tr>\n",
       "    <tr>\n",
       "      <th>2021-05-01</th>\n",
       "      <td>3769820.80</td>\n",
       "    </tr>\n",
       "    <tr>\n",
       "      <th>2021-06-01</th>\n",
       "      <td>3938673.61</td>\n",
       "    </tr>\n",
       "    <tr>\n",
       "      <th>2021-07-01</th>\n",
       "      <td>3659140.51</td>\n",
       "    </tr>\n",
       "    <tr>\n",
       "      <th>2021-08-01</th>\n",
       "      <td>3750839.34</td>\n",
       "    </tr>\n",
       "    <tr>\n",
       "      <th>2021-09-01</th>\n",
       "      <td>3506263.75</td>\n",
       "    </tr>\n",
       "    <tr>\n",
       "      <th>2021-10-01</th>\n",
       "      <td>3713310.08</td>\n",
       "    </tr>\n",
       "    <tr>\n",
       "      <th>2021-11-01</th>\n",
       "      <td>3615829.58</td>\n",
       "    </tr>\n",
       "    <tr>\n",
       "      <th>2021-12-01</th>\n",
       "      <td>3775806.12</td>\n",
       "    </tr>\n",
       "  </tbody>\n",
       "</table>\n",
       "</div>"
      ],
      "text/plain": [
       "              monthly_sales\n",
       "invoice_date               \n",
       "2021-01-01       3489088.99\n",
       "2021-02-01       3722788.19\n",
       "2021-03-01       4032316.82\n",
       "2021-04-01       3938371.26\n",
       "2021-05-01       3769820.80\n",
       "2021-06-01       3938673.61\n",
       "2021-07-01       3659140.51\n",
       "2021-08-01       3750839.34\n",
       "2021-09-01       3506263.75\n",
       "2021-10-01       3713310.08\n",
       "2021-11-01       3615829.58\n",
       "2021-12-01       3775806.12"
      ]
     },
     "metadata": {},
     "output_type": "display_data"
    },
    {
     "data": {
      "image/png": "[encoded data removed]",
      "text/plain": [
       "<Figure size 1000x400 with 1 Axes>"
      ]
     },
     "metadata": {},
     "output_type": "display_data"
    },
    {
     "name": "stdout",
     "output_type": "stream",
     "text": [
      "Highest month: 2022-12-01 with 4071496.78\n",
      "Lowest month: 2023-11-01 with 485230.74\n"
     ]
    }
   ],
   "source": [
    "date_series = fct_invoice.dropna(subset=['invoice_date']).copy()\n",
    "date_series = date_series.set_index('invoice_date')\n",
    "monthly = date_series['line_total'].resample('MS').sum()\n",
    "\n",
    "print(\"Monthly totals preview:\")\n",
    "display(monthly.head(12).to_frame('monthly_sales'))\n",
    "\n",
    "plt.figure(figsize=(10, 4))\n",
    "plt.plot(monthly.index, monthly.values)  \n",
    "plt.title(\"Monthly Sales Over Time\")\n",
    "plt.xlabel(\"Month\")\n",
    "plt.ylabel(\"Total Sales\")\n",
    "plt.xticks(rotation=45)\n",
    "plt.tight_layout()\n",
    "plt.show()\n",
    "\n",
    "if len(monthly.dropna()):\n",
    "    top_month = monthly.idxmax()\n",
    "    low_month = monthly.idxmin()\n",
    "    print(\"Highest month:\", top_month.date(), \"with\", float(monthly.max()))\n",
    "    print(\"Lowest month:\",  low_month.date(),  \"with\", float(monthly.min()))"
   ]
  },
  {
   "cell_type": "markdown",
   "id": "1da4a31c",
   "metadata": {},
   "source": [
    "## Hard\n",
    "\n",
    "### Sales by category and decade age range (e.g., 10-19, 20-29, and so forth)"
   ]
  },
  {
   "cell_type": "code",
   "execution_count": 50,
   "id": "e5dbafc3",
   "metadata": {
    "execution": {
     "iopub.execute_input": "2025-09-19T13:41:11.772612Z",
     "iopub.status.busy": "2025-09-19T13:41:11.772373Z",
     "iopub.status.idle": "2025-09-19T13:41:11.908370Z",
     "shell.execute_reply": "2025-09-19T13:41:11.907788Z"
    }
   },
   "outputs": [
    {
     "data": {
      "text/html": [
       "<div>\n",
       "<style scoped>\n",
       "    .dataframe tbody tr th:only-of-type {\n",
       "        vertical-align: middle;\n",
       "    }\n",
       "\n",
       "    .dataframe tbody tr th {\n",
       "        vertical-align: top;\n",
       "    }\n",
       "\n",
       "    .dataframe thead th {\n",
       "        text-align: right;\n",
       "    }\n",
       "</style>\n",
       "<table border=\"1\" class=\"dataframe\">\n",
       "  <thead>\n",
       "    <tr style=\"text-align: right;\">\n",
       "      <th>age_decade</th>\n",
       "      <th>10-19</th>\n",
       "      <th>20-29</th>\n",
       "      <th>30-39</th>\n",
       "      <th>40-49</th>\n",
       "      <th>50-59</th>\n",
       "      <th>60-69</th>\n",
       "      <th>70-79</th>\n",
       "      <th>80-89</th>\n",
       "    </tr>\n",
       "    <tr>\n",
       "      <th>category</th>\n",
       "      <th></th>\n",
       "      <th></th>\n",
       "      <th></th>\n",
       "      <th></th>\n",
       "      <th></th>\n",
       "      <th></th>\n",
       "      <th></th>\n",
       "      <th></th>\n",
       "    </tr>\n",
       "  </thead>\n",
       "  <tbody>\n",
       "    <tr>\n",
       "      <th>Books</th>\n",
       "      <td>12801.75</td>\n",
       "      <td>79461.75</td>\n",
       "      <td>84143.10</td>\n",
       "      <td>87203.40</td>\n",
       "      <td>74962.20</td>\n",
       "      <td>80476.80</td>\n",
       "      <td>54827.85</td>\n",
       "      <td>26664.00</td>\n",
       "    </tr>\n",
       "    <tr>\n",
       "      <th>Clothing</th>\n",
       "      <td>1927413.84</td>\n",
       "      <td>10250732.80</td>\n",
       "      <td>11354126.96</td>\n",
       "      <td>11215189.92</td>\n",
       "      <td>10321851.76</td>\n",
       "      <td>10660642.08</td>\n",
       "      <td>7769371.28</td>\n",
       "      <td>4493698.00</td>\n",
       "    </tr>\n",
       "    <tr>\n",
       "      <th>Cosmetics</th>\n",
       "      <td>109619.36</td>\n",
       "      <td>605915.32</td>\n",
       "      <td>723544.70</td>\n",
       "      <td>665034.96</td>\n",
       "      <td>587780.96</td>\n",
       "      <td>649990.76</td>\n",
       "      <td>419082.62</td>\n",
       "      <td>254531.60</td>\n",
       "    </tr>\n",
       "    <tr>\n",
       "      <th>Food &amp; Beverage</th>\n",
       "      <td>13582.31</td>\n",
       "      <td>73491.96</td>\n",
       "      <td>87246.86</td>\n",
       "      <td>89553.29</td>\n",
       "      <td>72425.04</td>\n",
       "      <td>80976.09</td>\n",
       "      <td>55050.98</td>\n",
       "      <td>31332.93</td>\n",
       "    </tr>\n",
       "    <tr>\n",
       "      <th>Shoes</th>\n",
       "      <td>993281.35</td>\n",
       "      <td>5924878.24</td>\n",
       "      <td>7200839.66</td>\n",
       "      <td>7025590.02</td>\n",
       "      <td>5852857.84</td>\n",
       "      <td>5978893.54</td>\n",
       "      <td>4480269.05</td>\n",
       "      <td>2628744.60</td>\n",
       "    </tr>\n",
       "    <tr>\n",
       "      <th>Souvenir</th>\n",
       "      <td>12375.15</td>\n",
       "      <td>54943.32</td>\n",
       "      <td>64092.72</td>\n",
       "      <td>66391.80</td>\n",
       "      <td>54943.32</td>\n",
       "      <td>55025.43</td>\n",
       "      <td>38673.81</td>\n",
       "      <td>23718.06</td>\n",
       "    </tr>\n",
       "    <tr>\n",
       "      <th>Technology</th>\n",
       "      <td>1129800.00</td>\n",
       "      <td>5261550.00</td>\n",
       "      <td>6159300.00</td>\n",
       "      <td>5954550.00</td>\n",
       "      <td>4435200.00</td>\n",
       "      <td>5471550.00</td>\n",
       "      <td>3638250.00</td>\n",
       "      <td>1946700.00</td>\n",
       "    </tr>\n",
       "    <tr>\n",
       "      <th>Toys</th>\n",
       "      <td>60426.24</td>\n",
       "      <td>385100.80</td>\n",
       "      <td>420582.40</td>\n",
       "      <td>390906.88</td>\n",
       "      <td>345067.52</td>\n",
       "      <td>363955.20</td>\n",
       "      <td>273244.16</td>\n",
       "      <td>153932.80</td>\n",
       "    </tr>\n",
       "  </tbody>\n",
       "</table>\n",
       "</div>"
      ],
      "text/plain": [
       "age_decade            10-19        20-29        30-39        40-49        50-59        60-69       70-79       80-89\n",
       "category                                                                                                            \n",
       "Books              12801.75     79461.75     84143.10     87203.40     74962.20     80476.80    54827.85    26664.00\n",
       "Clothing         1927413.84  10250732.80  11354126.96  11215189.92  10321851.76  10660642.08  7769371.28  4493698.00\n",
       "Cosmetics         109619.36    605915.32    723544.70    665034.96    587780.96    649990.76   419082.62   254531.60\n",
       "Food & Beverage    13582.31     73491.96     87246.86     89553.29     72425.04     80976.09    55050.98    31332.93\n",
       "Shoes             993281.35   5924878.24   7200839.66   7025590.02   5852857.84   5978893.54  4480269.05  2628744.60\n",
       "Souvenir           12375.15     54943.32     64092.72     66391.80     54943.32     55025.43    38673.81    23718.06\n",
       "Technology       1129800.00   5261550.00   6159300.00   5954550.00   4435200.00   5471550.00  3638250.00  1946700.00\n",
       "Toys               60426.24    385100.80    420582.40    390906.88    345067.52    363955.20   273244.16   153932.80"
      ]
     },
     "metadata": {},
     "output_type": "display_data"
    }
   ],
   "source": [
    "inv_with_age_nonnull = inv_with_age.dropna(subset=['age']).copy()\n",
    "\n",
    "ages = inv_with_age_nonnull['age'].astype(float)\n",
    "decade_start = (np.floor(ages / 10) * 10).astype(int)\n",
    "inv_with_age_nonnull['age_decade'] = decade_start.astype(str) + \"-\" + (decade_start + 9).astype(str)\n",
    "\n",
    "pivot_tbl = pd.pivot_table(\n",
    "    inv_with_age_nonnull,\n",
    "    values='line_total',\n",
    "    index='category',\n",
    "    columns='age_decade',\n",
    "    aggfunc='sum',\n",
    "    fill_value=0\n",
    ")\n",
    "\n",
    "ordered_cols = sorted(pivot_tbl.columns, key=lambda s: int(s.split(\"-\")[0]))\n",
    "pivot_tbl = pivot_tbl[ordered_cols]\n",
    "\n",
    "display(pivot_tbl)"
   ]
  }
 ],
 "metadata": {
  "kernelspec": {
   "display_name": "base",
   "language": "python",
   "name": "python3"
  },
  "language_info": {
   "codemirror_mode": {
    "name": "ipython",
    "version": 3
   },
   "file_extension": ".py",
   "mimetype": "text/x-python",
   "name": "python",
   "nbconvert_exporter": "python",
   "pygments_lexer": "ipython3",
   "version": "3.13.5"
  }
 },
 "nbformat": 4,
 "nbformat_minor": 5
}
