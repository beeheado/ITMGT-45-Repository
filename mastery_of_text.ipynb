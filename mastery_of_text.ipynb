{
 "cells": [
  {
   "cell_type": "code",
   "execution_count": 24,
   "id": "8027af30-bade-4876-a2e3-3f7fbaea58c9",
   "metadata": {},
   "outputs": [],
   "source": [
    "from urllib.request import urlopen, Request\n",
    "from urllib.error import URLError, HTTPError\n",
    "\n",
    "URL = \"https://www.gutenberg.org/cache/epub/10/pg10.txt\""
   ]
  },
  {
   "cell_type": "code",
   "execution_count": 25,
   "id": "2611104a-1526-4a29-aef4-e4eaa1018792",
   "metadata": {},
   "outputs": [
    {
     "name": "stdout",
     "output_type": "stream",
     "text": [
      "Download complete. Characters in pg10: 4451818\n"
     ]
    }
   ],
   "source": [
    "pg10 = \"\"\n",
    "\n",
    "try:\n",
    "    req = Request(URL, headers={\"User-Agent\": \"Mozilla/5.0\"})\n",
    "    with urlopen(req) as resp:\n",
    "        raw = resp.read()  # bytes\n",
    "        try:\n",
    "            pg10 = raw.decode(\"utf-8\")\n",
    "        except UnicodeDecodeError:\n",
    "            pg10 = raw.decode(\"latin-1\")\n",
    "    print(\"Download complete. Characters in pg10:\", len(pg10))\n",
    "except HTTPError as e:\n",
    "    print(\"HTTP error:\", e.code, e.reason)\n",
    "except URLError as e:\n",
    "    print(\"URL error:\", e.reason)"
   ]
  },
  {
   "cell_type": "code",
   "execution_count": 26,
   "id": "38c58dda-b9ee-452a-86fd-202179f08030",
   "metadata": {},
   "outputs": [],
   "source": [
    "def tokenize_alpha(text):\n",
    "    word = []\n",
    "    for ch in text:\n",
    "        if ch.isalpha():             \n",
    "            word.append(ch.lower())  \n",
    "        else:\n",
    "            if word:\n",
    "                yield \"\".join(word)\n",
    "                word = []\n",
    "    if word:  \n",
    "        yield \"\".join(word)\n",
    "\n",
    "def count_lines(text):\n",
    "    return len(text.splitlines())\n",
    "\n",
    "def count_words(text):\n",
    "    total = 0\n",
    "    for _ in tokenize_alpha(text):\n",
    "        total += 1\n",
    "    return total\n",
    "\n",
    "def count_word_case_insensitive(text, target):\n",
    "    target = target.lower()\n",
    "    cnt = 0\n",
    "    for w in tokenize_alpha(text):\n",
    "        if w == target:\n",
    "            cnt += 1\n",
    "    return cnt\n",
    "\n",
    "def most_common_word(text):\n",
    "    freq = {}\n",
    "    for w in tokenize_alpha(text):\n",
    "        freq[w] = freq.get(w, 0) + 1\n",
    "    if not freq:\n",
    "        return None, 0\n",
    "\n",
    "    best_word = None\n",
    "    best_count = -1\n",
    "    for w, c in freq.items():\n",
    "        if c > best_count:\n",
    "            best_word, best_count = w, c\n",
    "    return best_word, best_count\n"
   ]
  },
  {
   "cell_type": "code",
   "execution_count": 27,
   "id": "134327ef-e447-485a-96d4-5f3d3730e844",
   "metadata": {},
   "outputs": [
    {
     "name": "stdout",
     "output_type": "stream",
     "text": [
      "Lines: 99968\n",
      "Words (alphabetic-only): 795227\n",
      "Occurrences of \"apostle\" (case-insensitive): 47\n",
      "Most common word (case-insensitive): the → 64309\n"
     ]
    }
   ],
   "source": [
    "line_count = count_lines(pg10)\n",
    "\n",
    "word_count = count_words(pg10)\n",
    "\n",
    "apostle_count = count_word_case_insensitive(pg10, \"apostle\")\n",
    "\n",
    "common_word, common_count = most_common_word(pg10)\n",
    "\n",
    "print(\"Lines:\", line_count)\n",
    "print(\"Words (alphabetic-only):\", word_count)\n",
    "print('Occurrences of \"apostle\" (case-insensitive):', apostle_count)\n",
    "print(\"Most common word (case-insensitive):\", common_word, \"→\", common_count)"
   ]
  },
  {
   "cell_type": "code",
   "execution_count": null,
   "id": "6c047bbb",
   "metadata": {},
   "outputs": [],
   "source": []
  }
 ],
 "metadata": {
  "kernelspec": {
   "display_name": "base",
   "language": "python",
   "name": "python3"
  },
  "language_info": {
   "codemirror_mode": {
    "name": "ipython",
    "version": 3
   },
   "file_extension": ".py",
   "mimetype": "text/x-python",
   "name": "python",
   "nbconvert_exporter": "python",
   "pygments_lexer": "ipython3",
   "version": "3.13.5"
  }
 },
 "nbformat": 4,
 "nbformat_minor": 5
}
